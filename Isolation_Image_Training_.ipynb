{
  "nbformat": 4,
  "nbformat_minor": 0,
  "metadata": {
    "colab": {
      "provenance": [],
      "gpuType": "T4",
      "mount_file_id": "1HzDzzsXZTjt3I6smHr4HHyLPHTdlycYO",
      "authorship_tag": "ABX9TyM5EQwVpHNEoIGHjNfxPJda",
      "include_colab_link": true
    },
    "kernelspec": {
      "name": "python3",
      "display_name": "Python 3"
    },
    "language_info": {
      "name": "python"
    },
    "accelerator": "GPU"
  },
  "cells": [
    {
      "cell_type": "markdown",
      "metadata": {
        "id": "view-in-github",
        "colab_type": "text"
      },
      "source": [
        "<a href=\"https://colab.research.google.com/github/mohammedrijas45/Isolation-Forest-Image-Anomaly-Detection/blob/main/Isolation_Image_Training_.ipynb\" target=\"_parent\"><img src=\"https://colab.research.google.com/assets/colab-badge.svg\" alt=\"Open In Colab\"/></a>"
      ]
    },
    {
      "cell_type": "code",
      "execution_count": 1,
      "metadata": {
        "colab": {
          "base_uri": "https://localhost:8080/"
        },
        "id": "73QOaI8M_nc9",
        "outputId": "3eb20922-92cd-4d40-81e4-35d0e159a5fe"
      },
      "outputs": [
        {
          "output_type": "stream",
          "name": "stdout",
          "text": [
            "Downloading data from https://storage.googleapis.com/tensorflow/keras-applications/vgg16/vgg16_weights_tf_dim_ordering_tf_kernels_notop.h5\n",
            "58889256/58889256 [==============================] - 1s 0us/step\n",
            "1/1 [==============================] - 2s 2s/step\n",
            "1/1 [==============================] - 0s 19ms/step\n",
            "1/1 [==============================] - 0s 17ms/step\n",
            "1/1 [==============================] - 0s 53ms/step\n",
            "1/1 [==============================] - 0s 34ms/step\n",
            "1/1 [==============================] - 0s 79ms/step\n",
            "1/1 [==============================] - 0s 67ms/step\n",
            "1/1 [==============================] - 0s 71ms/step\n",
            "1/1 [==============================] - 0s 42ms/step\n",
            "1/1 [==============================] - 0s 71ms/step\n",
            "1/1 [==============================] - 0s 25ms/step\n",
            "1/1 [==============================] - 0s 25ms/step\n",
            "1/1 [==============================] - 0s 40ms/step\n",
            "1/1 [==============================] - 0s 81ms/step\n",
            "1/1 [==============================] - 0s 35ms/step\n",
            "1/1 [==============================] - 0s 36ms/step\n",
            "1/1 [==============================] - 0s 82ms/step\n",
            "1/1 [==============================] - 0s 24ms/step\n",
            "1/1 [==============================] - 0s 56ms/step\n",
            "1/1 [==============================] - 0s 25ms/step\n",
            "1/1 [==============================] - 0s 17ms/step\n",
            "1/1 [==============================] - 0s 17ms/step\n",
            "1/1 [==============================] - 0s 17ms/step\n",
            "1/1 [==============================] - 0s 17ms/step\n",
            "1/1 [==============================] - 0s 17ms/step\n",
            "1/1 [==============================] - 0s 36ms/step\n",
            "1/1 [==============================] - 0s 25ms/step\n",
            "1/1 [==============================] - 0s 24ms/step\n",
            "1/1 [==============================] - 0s 29ms/step\n",
            "1/1 [==============================] - 0s 18ms/step\n",
            "1/1 [==============================] - 0s 17ms/step\n",
            "1/1 [==============================] - 0s 17ms/step\n",
            "1/1 [==============================] - 0s 18ms/step\n",
            "1/1 [==============================] - 0s 17ms/step\n",
            "1/1 [==============================] - 0s 19ms/step\n"
          ]
        },
        {
          "output_type": "execute_result",
          "data": {
            "text/plain": [
              "['pca_transformer.pkl']"
            ]
          },
          "metadata": {},
          "execution_count": 1
        }
      ],
      "source": [
        "import numpy as np\n",
        "from tensorflow.keras.applications.vgg16 import preprocess_input\n",
        "from sklearn.ensemble import IsolationForest\n",
        "from sklearn.preprocessing import StandardScaler\n",
        "from sklearn.decomposition import PCA\n",
        "from tensorflow.keras.applications import VGG16\n",
        "from tensorflow.keras.preprocessing import image\n",
        "from tensorflow.keras.models import Model\n",
        "\n",
        "# Load pre-trained VGG16 model without the top (fully connected) layers\n",
        "base_model = VGG16(weights='imagenet', include_top=False, input_shape=(224, 224, 3))\n",
        "\n",
        "# Extract features using VGG16\n",
        "def extract_features(img_path):\n",
        "    img = image.load_img(img_path, target_size=(224, 224))\n",
        "    x = image.img_to_array(img)\n",
        "    x = np.expand_dims(x, axis=0)\n",
        "    x = preprocess_input(x)  # Assuming you have imported preprocess_input from keras.applications.vgg16\n",
        "    features = base_model.predict(x)\n",
        "    return features.flatten()  # Flatten the feature tensor\n",
        "\n",
        "# Example: Assuming you have a list of image paths\n",
        "image_paths = [ '/content/drive/MyDrive/ML_Images/Traing/1.jpg',\n",
        "        '/content/drive/MyDrive/ML_Images/Traing/2.jpg',\n",
        "        '/content/drive/MyDrive/ML_Images/Traing/3.jpg',\n",
        "        '/content/drive/MyDrive/ML_Images/Traing/4.jpg',\n",
        "        '/content/drive/MyDrive/ML_Images/Traing/5.jpg',\n",
        "        '/content/drive/MyDrive/ML_Images/Traing/6.jpg',\n",
        "        '/content/drive/MyDrive/ML_Images/Traing/7.jpg',\n",
        "        '/content/drive/MyDrive/ML_Images/Traing/8.jpg',\n",
        "        '/content/drive/MyDrive/ML_Images/Traing/9.jpg',\n",
        "        '/content/drive/MyDrive/ML_Images/Traing/10.jpg',\n",
        "        '/content/drive/MyDrive/ML_Images/Traing/11.jpg',\n",
        "        '/content/drive/MyDrive/ML_Images/Traing/12.jpg',\n",
        "        '/content/drive/MyDrive/ML_Images/Traing/13.jpg',\n",
        "        '/content/drive/MyDrive/ML_Images/Traing/14.jpg',\n",
        "        '/content/drive/MyDrive/ML_Images/Traing/15.jpg',\n",
        "        '/content/drive/MyDrive/ML_Images/Traing/16.jpg',\n",
        "        '/content/drive/MyDrive/ML_Images/Traing/17.jpg',\n",
        "        '/content/drive/MyDrive/ML_Images/Traing/18.jpg',\n",
        "        '/content/drive/MyDrive/ML_Images/Traing/19.jpg',\n",
        "        '/content/drive/MyDrive/ML_Images/Traing/20.jpg',\n",
        "        '/content/drive/MyDrive/ML_Images/Traing/21.jpg',\n",
        "        '/content/drive/MyDrive/ML_Images/Traing/22.jpg',\n",
        "        '/content/drive/MyDrive/ML_Images/Traing/23.jpg',\n",
        "        '/content/drive/MyDrive/ML_Images/Traing/24.jpg',\n",
        "        '/content/drive/MyDrive/ML_Images/Traing/25.jpg',\n",
        "        '/content/drive/MyDrive/ML_Images/Traing/26.jpg',\n",
        "        '/content/drive/MyDrive/ML_Images/Traing/27.jpg',\n",
        "        '/content/drive/MyDrive/ML_Images/Traing/28.jpg',\n",
        "        '/content/drive/MyDrive/ML_Images/Traing/29.jpg',\n",
        "        '/content/drive/MyDrive/ML_Images/Traing/30.jpg',\n",
        "        '/content/drive/MyDrive/ML_Images/Traing/31.jpg',\n",
        "        '/content/drive/MyDrive/ML_Images/Traing/32.jpg',\n",
        "        '/content/drive/MyDrive/ML_Images/Traing/33.jpg',\n",
        "        '/content/drive/MyDrive/ML_Images/Traing/34.jpg',\n",
        "        '/content/drive/MyDrive/ML_Images/Traing/35.jpg',\n",
        "]\n",
        "\n",
        "# Extract features for each image\n",
        "features_list = [extract_features(img_path) for img_path in image_paths]\n",
        "\n",
        "# Convert features to numpy array\n",
        "X_train = np.array(features_list)\n",
        "\n",
        "# Normalize the feature vectors\n",
        "scaler = StandardScaler()\n",
        "X_train_scaled = scaler.fit_transform(X_train)\n",
        "\n",
        "# Optionally, perform dimensionality reduction using PCA\n",
        "pca = PCA(n_components=35)  # Adjust the number of components as needed\n",
        "X_train_pca = pca.fit_transform(X_train_scaled)\n",
        "\n",
        "# Train the Isolation Forest model\n",
        "clf = IsolationForest(n_estimators=100, contamination=0.1, random_state=42)\n",
        "clf.fit(X_train_pca)\n",
        "\n",
        "# Save the trained model\n",
        "# You can use joblib or pickle to save the model\n",
        "import joblib\n",
        "joblib.dump(clf, 'isolation_forest_model.pkl')\n",
        "\n",
        "# Optionally, save the scaler and PCA transformer\n",
        "joblib.dump(scaler, 'scaler.pkl')\n",
        "joblib.dump(pca, 'pca_transformer.pkl')\n"
      ]
    },
    {
      "cell_type": "code",
      "source": [
        "from google.colab import drive\n",
        "drive.mount('/content/drive')"
      ],
      "metadata": {
        "colab": {
          "base_uri": "https://localhost:8080/"
        },
        "id": "Gao4uboRFXsS",
        "outputId": "564aaf3f-4c22-48c6-9c9a-817f7124d18a"
      },
      "execution_count": null,
      "outputs": [
        {
          "output_type": "stream",
          "name": "stdout",
          "text": [
            "Drive already mounted at /content/drive; to attempt to forcibly remount, call drive.mount(\"/content/drive\", force_remount=True).\n"
          ]
        }
      ]
    }
  ]
}